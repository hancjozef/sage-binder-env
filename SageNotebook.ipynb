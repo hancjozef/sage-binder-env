{
 "cells": [
  {
   "cell_type": "markdown",
   "metadata": {},
   "source": [
    "# Práca s programom Sage\n",
    "\n",
    "**author:** J. Hanč\n",
    "#### Ťaháky\n",
    "- [Analýza](https://drive.google.com/file/d/1j3UV-MOOJNM_6CNXBJLTaB8dXMsVEdZx/preview), [Algebra](https://drive.google.com/file/d/1mPK3hbp1ZdHqapRiRwj3JQftBDbaWn03/preview)\n",
    "- [Jupyter](https://docs.google.com/document/d/1SfarPTitlITzPuQSM6Ocs31RNKcU4ZLzCpgfcjvuQ0k/preview), [Markdown](https://drive.google.com/file/d/18iqgfQILf7h7LeRy4cxssYUMaSs2kmXy/preview)"
   ]
  },
  {
   "cell_type": "code",
   "execution_count": null,
   "metadata": {},
   "outputs": [],
   "source": []
  }
 ],
 "metadata": {
  "kernelspec": {
   "display_name": "SageMath 8.3",
   "language": "",
   "name": "sagemath"
  },
  "language_info": {
   "codemirror_mode": {
    "name": "ipython",
    "version": 2
   },
   "file_extension": ".py",
   "mimetype": "text/x-python",
   "name": "python",
   "nbconvert_exporter": "python",
   "pygments_lexer": "ipython2",
   "version": "2.7.15"
  }
 },
 "nbformat": 4,
 "nbformat_minor": 2
}
